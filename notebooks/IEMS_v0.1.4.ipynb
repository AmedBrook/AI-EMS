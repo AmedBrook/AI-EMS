{
 "cells": [
  {
   "attachments": {},
   "cell_type": "markdown",
   "metadata": {
    "id": "0MRC0e0KhQ0S"
   },
   "source": [
    "## IEMS v0.1.4 - SVM "
   ]
  },
  {
   "cell_type": "markdown",
   "metadata": {
    "id": "LWd1UlMnhT2s"
   },
   "source": [
    "### Importing libraries."
   ]
  },
  {
   "cell_type": "code",
   "execution_count": 1,
   "metadata": {
    "id": "YvGPUQaHhXfL"
   },
   "outputs": [
    {
     "name": "stdout",
     "output_type": "stream",
     "text": [
      "Requirement already satisfied: ipynb in c:\\users\\35841\\appdata\\local\\packages\\pythonsoftwarefoundation.python.3.10_qbz5n2kfra8p0\\localcache\\local-packages\\python310\\site-packages (0.5.1)\n",
      "Note: you may need to restart the kernel to use updated packages.\n",
      "Requirement already satisfied: python-dotenv in c:\\users\\35841\\appdata\\local\\packages\\pythonsoftwarefoundation.python.3.10_qbz5n2kfra8p0\\localcache\\local-packages\\python310\\site-packages (0.21.0)Note: you may need to restart the kernel to use updated packages.\n",
      "\n"
     ]
    }
   ],
   "source": [
    "import numpy as np\n",
    "import matplotlib.pyplot as plt\n",
    "import pandas as pd\n",
    "%pip install ipynb\n",
    "%pip install python-dotenv"
   ]
  },
  {
   "cell_type": "markdown",
   "metadata": {
    "id": "K1VMqkGvhc3-"
   },
   "source": [
    "### Importing dataset."
   ]
  },
  {
   "cell_type": "code",
   "execution_count": 6,
   "metadata": {
    "id": "M52QDmyzhh9s"
   },
   "outputs": [
    {
     "ename": "FileNotFoundError",
     "evalue": "[Errno 2] No such file or directory: 'dpath'",
     "output_type": "error",
     "traceback": [
      "\u001b[1;31m---------------------------------------------------------------------------\u001b[0m",
      "\u001b[1;31mFileNotFoundError\u001b[0m                         Traceback (most recent call last)",
      "Cell \u001b[1;32mIn[6], line 7\u001b[0m\n\u001b[0;32m      2\u001b[0m \u001b[39mfrom\u001b[39;00m \u001b[39mdotenv\u001b[39;00m \u001b[39mimport\u001b[39;00m load_dotenv\n\u001b[0;32m      4\u001b[0m load_dotenv()\n\u001b[1;32m----> 7\u001b[0m dataset \u001b[39m=\u001b[39m pd\u001b[39m.\u001b[39;49mread_csv(\u001b[39mr\u001b[39;49m\u001b[39m'\u001b[39;49m\u001b[39mdpath\u001b[39;49m\u001b[39m'\u001b[39;49m)\n\u001b[0;32m      8\u001b[0m X \u001b[39m=\u001b[39m dataset\u001b[39m.\u001b[39miloc[:, [\u001b[39m1\u001b[39m,\u001b[39m2\u001b[39m]]\u001b[39m.\u001b[39mvalues\n\u001b[0;32m      9\u001b[0m y \u001b[39m=\u001b[39m dataset\u001b[39m.\u001b[39miloc[:, \u001b[39m-\u001b[39m\u001b[39m1\u001b[39m]\u001b[39m.\u001b[39mvalues\n",
      "File \u001b[1;32m~\\AppData\\Local\\Packages\\PythonSoftwareFoundation.Python.3.10_qbz5n2kfra8p0\\LocalCache\\local-packages\\Python310\\site-packages\\pandas\\util\\_decorators.py:211\u001b[0m, in \u001b[0;36mdeprecate_kwarg.<locals>._deprecate_kwarg.<locals>.wrapper\u001b[1;34m(*args, **kwargs)\u001b[0m\n\u001b[0;32m    209\u001b[0m     \u001b[39melse\u001b[39;00m:\n\u001b[0;32m    210\u001b[0m         kwargs[new_arg_name] \u001b[39m=\u001b[39m new_arg_value\n\u001b[1;32m--> 211\u001b[0m \u001b[39mreturn\u001b[39;00m func(\u001b[39m*\u001b[39margs, \u001b[39m*\u001b[39m\u001b[39m*\u001b[39mkwargs)\n",
      "File \u001b[1;32m~\\AppData\\Local\\Packages\\PythonSoftwareFoundation.Python.3.10_qbz5n2kfra8p0\\LocalCache\\local-packages\\Python310\\site-packages\\pandas\\util\\_decorators.py:331\u001b[0m, in \u001b[0;36mdeprecate_nonkeyword_arguments.<locals>.decorate.<locals>.wrapper\u001b[1;34m(*args, **kwargs)\u001b[0m\n\u001b[0;32m    325\u001b[0m \u001b[39mif\u001b[39;00m \u001b[39mlen\u001b[39m(args) \u001b[39m>\u001b[39m num_allow_args:\n\u001b[0;32m    326\u001b[0m     warnings\u001b[39m.\u001b[39mwarn(\n\u001b[0;32m    327\u001b[0m         msg\u001b[39m.\u001b[39mformat(arguments\u001b[39m=\u001b[39m_format_argument_list(allow_args)),\n\u001b[0;32m    328\u001b[0m         \u001b[39mFutureWarning\u001b[39;00m,\n\u001b[0;32m    329\u001b[0m         stacklevel\u001b[39m=\u001b[39mfind_stack_level(),\n\u001b[0;32m    330\u001b[0m     )\n\u001b[1;32m--> 331\u001b[0m \u001b[39mreturn\u001b[39;00m func(\u001b[39m*\u001b[39margs, \u001b[39m*\u001b[39m\u001b[39m*\u001b[39mkwargs)\n",
      "File \u001b[1;32m~\\AppData\\Local\\Packages\\PythonSoftwareFoundation.Python.3.10_qbz5n2kfra8p0\\LocalCache\\local-packages\\Python310\\site-packages\\pandas\\io\\parsers\\readers.py:950\u001b[0m, in \u001b[0;36mread_csv\u001b[1;34m(filepath_or_buffer, sep, delimiter, header, names, index_col, usecols, squeeze, prefix, mangle_dupe_cols, dtype, engine, converters, true_values, false_values, skipinitialspace, skiprows, skipfooter, nrows, na_values, keep_default_na, na_filter, verbose, skip_blank_lines, parse_dates, infer_datetime_format, keep_date_col, date_parser, dayfirst, cache_dates, iterator, chunksize, compression, thousands, decimal, lineterminator, quotechar, quoting, doublequote, escapechar, comment, encoding, encoding_errors, dialect, error_bad_lines, warn_bad_lines, on_bad_lines, delim_whitespace, low_memory, memory_map, float_precision, storage_options)\u001b[0m\n\u001b[0;32m    935\u001b[0m kwds_defaults \u001b[39m=\u001b[39m _refine_defaults_read(\n\u001b[0;32m    936\u001b[0m     dialect,\n\u001b[0;32m    937\u001b[0m     delimiter,\n\u001b[1;32m   (...)\u001b[0m\n\u001b[0;32m    946\u001b[0m     defaults\u001b[39m=\u001b[39m{\u001b[39m\"\u001b[39m\u001b[39mdelimiter\u001b[39m\u001b[39m\"\u001b[39m: \u001b[39m\"\u001b[39m\u001b[39m,\u001b[39m\u001b[39m\"\u001b[39m},\n\u001b[0;32m    947\u001b[0m )\n\u001b[0;32m    948\u001b[0m kwds\u001b[39m.\u001b[39mupdate(kwds_defaults)\n\u001b[1;32m--> 950\u001b[0m \u001b[39mreturn\u001b[39;00m _read(filepath_or_buffer, kwds)\n",
      "File \u001b[1;32m~\\AppData\\Local\\Packages\\PythonSoftwareFoundation.Python.3.10_qbz5n2kfra8p0\\LocalCache\\local-packages\\Python310\\site-packages\\pandas\\io\\parsers\\readers.py:605\u001b[0m, in \u001b[0;36m_read\u001b[1;34m(filepath_or_buffer, kwds)\u001b[0m\n\u001b[0;32m    602\u001b[0m _validate_names(kwds\u001b[39m.\u001b[39mget(\u001b[39m\"\u001b[39m\u001b[39mnames\u001b[39m\u001b[39m\"\u001b[39m, \u001b[39mNone\u001b[39;00m))\n\u001b[0;32m    604\u001b[0m \u001b[39m# Create the parser.\u001b[39;00m\n\u001b[1;32m--> 605\u001b[0m parser \u001b[39m=\u001b[39m TextFileReader(filepath_or_buffer, \u001b[39m*\u001b[39m\u001b[39m*\u001b[39mkwds)\n\u001b[0;32m    607\u001b[0m \u001b[39mif\u001b[39;00m chunksize \u001b[39mor\u001b[39;00m iterator:\n\u001b[0;32m    608\u001b[0m     \u001b[39mreturn\u001b[39;00m parser\n",
      "File \u001b[1;32m~\\AppData\\Local\\Packages\\PythonSoftwareFoundation.Python.3.10_qbz5n2kfra8p0\\LocalCache\\local-packages\\Python310\\site-packages\\pandas\\io\\parsers\\readers.py:1442\u001b[0m, in \u001b[0;36mTextFileReader.__init__\u001b[1;34m(self, f, engine, **kwds)\u001b[0m\n\u001b[0;32m   1439\u001b[0m     \u001b[39mself\u001b[39m\u001b[39m.\u001b[39moptions[\u001b[39m\"\u001b[39m\u001b[39mhas_index_names\u001b[39m\u001b[39m\"\u001b[39m] \u001b[39m=\u001b[39m kwds[\u001b[39m\"\u001b[39m\u001b[39mhas_index_names\u001b[39m\u001b[39m\"\u001b[39m]\n\u001b[0;32m   1441\u001b[0m \u001b[39mself\u001b[39m\u001b[39m.\u001b[39mhandles: IOHandles \u001b[39m|\u001b[39m \u001b[39mNone\u001b[39;00m \u001b[39m=\u001b[39m \u001b[39mNone\u001b[39;00m\n\u001b[1;32m-> 1442\u001b[0m \u001b[39mself\u001b[39m\u001b[39m.\u001b[39m_engine \u001b[39m=\u001b[39m \u001b[39mself\u001b[39;49m\u001b[39m.\u001b[39;49m_make_engine(f, \u001b[39mself\u001b[39;49m\u001b[39m.\u001b[39;49mengine)\n",
      "File \u001b[1;32m~\\AppData\\Local\\Packages\\PythonSoftwareFoundation.Python.3.10_qbz5n2kfra8p0\\LocalCache\\local-packages\\Python310\\site-packages\\pandas\\io\\parsers\\readers.py:1735\u001b[0m, in \u001b[0;36mTextFileReader._make_engine\u001b[1;34m(self, f, engine)\u001b[0m\n\u001b[0;32m   1733\u001b[0m     \u001b[39mif\u001b[39;00m \u001b[39m\"\u001b[39m\u001b[39mb\u001b[39m\u001b[39m\"\u001b[39m \u001b[39mnot\u001b[39;00m \u001b[39min\u001b[39;00m mode:\n\u001b[0;32m   1734\u001b[0m         mode \u001b[39m+\u001b[39m\u001b[39m=\u001b[39m \u001b[39m\"\u001b[39m\u001b[39mb\u001b[39m\u001b[39m\"\u001b[39m\n\u001b[1;32m-> 1735\u001b[0m \u001b[39mself\u001b[39m\u001b[39m.\u001b[39mhandles \u001b[39m=\u001b[39m get_handle(\n\u001b[0;32m   1736\u001b[0m     f,\n\u001b[0;32m   1737\u001b[0m     mode,\n\u001b[0;32m   1738\u001b[0m     encoding\u001b[39m=\u001b[39;49m\u001b[39mself\u001b[39;49m\u001b[39m.\u001b[39;49moptions\u001b[39m.\u001b[39;49mget(\u001b[39m\"\u001b[39;49m\u001b[39mencoding\u001b[39;49m\u001b[39m\"\u001b[39;49m, \u001b[39mNone\u001b[39;49;00m),\n\u001b[0;32m   1739\u001b[0m     compression\u001b[39m=\u001b[39;49m\u001b[39mself\u001b[39;49m\u001b[39m.\u001b[39;49moptions\u001b[39m.\u001b[39;49mget(\u001b[39m\"\u001b[39;49m\u001b[39mcompression\u001b[39;49m\u001b[39m\"\u001b[39;49m, \u001b[39mNone\u001b[39;49;00m),\n\u001b[0;32m   1740\u001b[0m     memory_map\u001b[39m=\u001b[39;49m\u001b[39mself\u001b[39;49m\u001b[39m.\u001b[39;49moptions\u001b[39m.\u001b[39;49mget(\u001b[39m\"\u001b[39;49m\u001b[39mmemory_map\u001b[39;49m\u001b[39m\"\u001b[39;49m, \u001b[39mFalse\u001b[39;49;00m),\n\u001b[0;32m   1741\u001b[0m     is_text\u001b[39m=\u001b[39;49mis_text,\n\u001b[0;32m   1742\u001b[0m     errors\u001b[39m=\u001b[39;49m\u001b[39mself\u001b[39;49m\u001b[39m.\u001b[39;49moptions\u001b[39m.\u001b[39;49mget(\u001b[39m\"\u001b[39;49m\u001b[39mencoding_errors\u001b[39;49m\u001b[39m\"\u001b[39;49m, \u001b[39m\"\u001b[39;49m\u001b[39mstrict\u001b[39;49m\u001b[39m\"\u001b[39;49m),\n\u001b[0;32m   1743\u001b[0m     storage_options\u001b[39m=\u001b[39;49m\u001b[39mself\u001b[39;49m\u001b[39m.\u001b[39;49moptions\u001b[39m.\u001b[39;49mget(\u001b[39m\"\u001b[39;49m\u001b[39mstorage_options\u001b[39;49m\u001b[39m\"\u001b[39;49m, \u001b[39mNone\u001b[39;49;00m),\n\u001b[0;32m   1744\u001b[0m )\n\u001b[0;32m   1745\u001b[0m \u001b[39massert\u001b[39;00m \u001b[39mself\u001b[39m\u001b[39m.\u001b[39mhandles \u001b[39mis\u001b[39;00m \u001b[39mnot\u001b[39;00m \u001b[39mNone\u001b[39;00m\n\u001b[0;32m   1746\u001b[0m f \u001b[39m=\u001b[39m \u001b[39mself\u001b[39m\u001b[39m.\u001b[39mhandles\u001b[39m.\u001b[39mhandle\n",
      "File \u001b[1;32m~\\AppData\\Local\\Packages\\PythonSoftwareFoundation.Python.3.10_qbz5n2kfra8p0\\LocalCache\\local-packages\\Python310\\site-packages\\pandas\\io\\common.py:856\u001b[0m, in \u001b[0;36mget_handle\u001b[1;34m(path_or_buf, mode, encoding, compression, memory_map, is_text, errors, storage_options)\u001b[0m\n\u001b[0;32m    851\u001b[0m \u001b[39melif\u001b[39;00m \u001b[39misinstance\u001b[39m(handle, \u001b[39mstr\u001b[39m):\n\u001b[0;32m    852\u001b[0m     \u001b[39m# Check whether the filename is to be opened in binary mode.\u001b[39;00m\n\u001b[0;32m    853\u001b[0m     \u001b[39m# Binary mode does not support 'encoding' and 'newline'.\u001b[39;00m\n\u001b[0;32m    854\u001b[0m     \u001b[39mif\u001b[39;00m ioargs\u001b[39m.\u001b[39mencoding \u001b[39mand\u001b[39;00m \u001b[39m\"\u001b[39m\u001b[39mb\u001b[39m\u001b[39m\"\u001b[39m \u001b[39mnot\u001b[39;00m \u001b[39min\u001b[39;00m ioargs\u001b[39m.\u001b[39mmode:\n\u001b[0;32m    855\u001b[0m         \u001b[39m# Encoding\u001b[39;00m\n\u001b[1;32m--> 856\u001b[0m         handle \u001b[39m=\u001b[39m \u001b[39mopen\u001b[39;49m(\n\u001b[0;32m    857\u001b[0m             handle,\n\u001b[0;32m    858\u001b[0m             ioargs\u001b[39m.\u001b[39;49mmode,\n\u001b[0;32m    859\u001b[0m             encoding\u001b[39m=\u001b[39;49mioargs\u001b[39m.\u001b[39;49mencoding,\n\u001b[0;32m    860\u001b[0m             errors\u001b[39m=\u001b[39;49merrors,\n\u001b[0;32m    861\u001b[0m             newline\u001b[39m=\u001b[39;49m\u001b[39m\"\u001b[39;49m\u001b[39m\"\u001b[39;49m,\n\u001b[0;32m    862\u001b[0m         )\n\u001b[0;32m    863\u001b[0m     \u001b[39melse\u001b[39;00m:\n\u001b[0;32m    864\u001b[0m         \u001b[39m# Binary mode\u001b[39;00m\n\u001b[0;32m    865\u001b[0m         handle \u001b[39m=\u001b[39m \u001b[39mopen\u001b[39m(handle, ioargs\u001b[39m.\u001b[39mmode)\n",
      "\u001b[1;31mFileNotFoundError\u001b[0m: [Errno 2] No such file or directory: 'dpath'"
     ]
    }
   ],
   "source": [
    "import sys, os\n",
    "from dotenv import load_dotenv\n",
    "\n",
    "load_dotenv()\n",
    "\n",
    "\n",
    "dataset = pd.read_csv(r'dpath')\n",
    "X = dataset.iloc[:, [1,2]].values\n",
    "y = dataset.iloc[:, -1].values"
   ]
  },
  {
   "cell_type": "markdown",
   "metadata": {
    "id": "YvxIPVyMhmKp"
   },
   "source": [
    "### Spliting Dataset. "
   ]
  },
  {
   "cell_type": "code",
   "execution_count": null,
   "metadata": {
    "id": "AVzJWAXIhxoC"
   },
   "outputs": [],
   "source": [
    "from sklearn.model_selection import train_test_split\n",
    "X_train, X_test, y_train, y_test = train_test_split(X, y, test_size = 0.15, random_state = 39)"
   ]
  },
  {
   "cell_type": "code",
   "execution_count": null,
   "metadata": {
    "id": "P3nS3-6r1i2B"
   },
   "outputs": [
    {
     "name": "stdout",
     "output_type": "stream",
     "text": [
      "[[ 25   9]\n",
      " [ 36   6]\n",
      " [ 91   8]\n",
      " [ 36  10]\n",
      " [198   9]\n",
      " [102  10]\n",
      " [ 10   9]\n",
      " [ 69  10]\n",
      " [ 65   6]\n",
      " [ 17   9]\n",
      " [ 69   5]\n",
      " [ 98   9]\n",
      " [162  10]\n",
      " [ 98  10]\n",
      " [ 64  10]\n",
      " [ 65   8]\n",
      " [ 12  10]\n",
      " [ 89   9]\n",
      " [ 89   5]\n",
      " [146   8]\n",
      " [ 45   9]\n",
      " [ 44   8]\n",
      " [ 89   9]\n",
      " [ 46  10]\n",
      " [ 79   4]\n",
      " [ 56   7]\n",
      " [ 56  10]\n",
      " [ 46  10]\n",
      " [ 99   9]\n",
      " [ 15   9]\n",
      " [  5   8]\n",
      " [ 56   7]\n",
      " [ 65   6]\n",
      " [ 46   7]\n",
      " [ 84   3]\n",
      " [ 46   4]\n",
      " [ 65   9]\n",
      " [ 37   4]\n",
      " [ 78   3]\n",
      " [ 61  10]\n",
      " [ 78   7]\n",
      " [ 92  10]\n",
      " [ 46   7]\n",
      " [ 15   4]\n",
      " [ 89   5]\n",
      " [ 69   8]\n",
      " [ 76   5]\n",
      " [ 48   9]\n",
      " [ 15   7]\n",
      " [156   4]\n",
      " [140   8]\n",
      " [ 61   9]\n",
      " [101   9]\n",
      " [ 44   9]\n",
      " [ 50   9]\n",
      " [153   5]\n",
      " [ 46   7]\n",
      " [ 89   4]\n",
      " [ 28   4]\n",
      " [140   8]\n",
      " [ 25   6]\n",
      " [ 46   8]\n",
      " [ 53   4]\n",
      " [ 46   7]\n",
      " [ 56   6]\n",
      " [ 46   5]\n",
      " [146   6]\n",
      " [ 63   4]\n",
      " [ 36   8]\n",
      " [ 48   7]\n",
      " [ 49   9]\n",
      " [ 65   6]\n",
      " [ 16  10]\n",
      " [ 59   5]\n",
      " [ 49   7]\n",
      " [ 65   8]\n",
      " [ 47   5]\n",
      " [ 46   2]\n",
      " [ 19   6]\n",
      " [ 32   9]\n",
      " [ 49  10]\n",
      " [ 68   6]\n",
      " [ 64   9]\n",
      " [ 89   4]\n",
      " [ 25   5]\n",
      " [ 82   9]\n",
      " [ 65   9]\n",
      " [ 12   2]\n",
      " [ 82   6]\n",
      " [ 64   9]\n",
      " [160   5]\n",
      " [ 46   9]\n",
      " [120   8]\n",
      " [ 15   7]\n",
      " [ 19   4]\n",
      " [ 40   8]\n",
      " [ 15  10]\n",
      " [ 49   4]\n",
      " [ 62   6]\n",
      " [ 33   6]\n",
      " [ 89   6]\n",
      " [ 58   6]\n",
      " [ 78   8]\n",
      " [ 71   8]\n",
      " [ 52   6]\n",
      " [ 89   4]\n",
      " [134   9]\n",
      " [ 46   4]\n",
      " [ 55   9]\n",
      " [ 46   9]\n",
      " [ 98   7]\n",
      " [ 16   4]\n",
      " [ 83   9]\n",
      " [ 95   7]\n",
      " [ 72   6]\n",
      " [ 94   9]\n",
      " [ 46   5]\n",
      " [ 39   6]\n",
      " [ 56   8]\n",
      " [133   7]\n",
      " [100  10]\n",
      " [ 25   5]\n",
      " [ 14   7]\n",
      " [ 23   6]\n",
      " [ 96  10]\n",
      " [ 16   5]\n",
      " [ 65   6]\n",
      " [126   7]\n",
      " [ 75   5]\n",
      " [ 89   8]\n",
      " [ 19   9]\n",
      " [ 79   9]\n",
      " [ 46   7]\n",
      " [130   5]\n",
      " [ 28  10]\n",
      " [ 46   4]\n",
      " [ 54   6]\n",
      " [ 19   6]\n",
      " [ 23   7]\n",
      " [ 35   4]\n",
      " [ 34   7]\n",
      " [ 69   8]\n",
      " [ 46   9]\n",
      " [ 45   5]\n",
      " [ 54   8]\n",
      " [ 63   4]\n",
      " [ 49   4]\n",
      " [ 46   9]\n",
      " [ 26   6]\n",
      " [ 45   4]\n",
      " [ 89   8]\n",
      " [ 73   4]\n",
      " [ 46  10]\n",
      " [ 25   6]\n",
      " [ 36   6]\n",
      " [ 26   3]\n",
      " [ 35   8]\n",
      " [ 20   8]\n",
      " [ 16   4]\n",
      " [ 89   8]\n",
      " [ 66   6]\n",
      " [ 25   6]\n",
      " [ 26   8]\n",
      " [ 46   9]\n",
      " [ 59   4]\n",
      " [ 89   9]\n",
      " [ 63   9]\n",
      " [ 14   4]\n",
      " [ 89   4]\n",
      " [ 98   9]]\n"
     ]
    }
   ],
   "source": [
    "print(X_train)"
   ]
  },
  {
   "cell_type": "code",
   "execution_count": null,
   "metadata": {
    "colab": {
     "base_uri": "https://localhost:8080/"
    },
    "id": "8dpDLojm1mVG",
    "outputId": "990cf185-af55-4459-9556-9e6f9b4e57a4"
   },
   "outputs": [
    {
     "name": "stdout",
     "output_type": "stream",
     "text": [
      "[0 0 1 0 0 1 0 0 1 0 1 0 1 1 1 1 0 1 0 0 1 1 1 0 1 1 1 0 0 1 1 1 0 0 0 0 0\n",
      " 0 1 0 1 1 0 0 0 0 1 1 1 1 0 1 1 0 1 0 1 1 0 0 1 1 1 1 1 0 0 0 1 0 0 0 1 1\n",
      " 0 1 1 1 1 1 0 1 0 0 0 0 0 1 0 1 1 0 0 1 1 1 0 1 1 0 1 1 0 1 0 0 0 1 0 1 1\n",
      " 0 0 0 1 1 0 1 0 1 1 0 1 0 0 1 1 1 0 0 1 0 1 1 1 0 0 1 0 1 1 0 1 1 1 1 0 1\n",
      " 1 0 0 0 1 0 0 1 1 1 1 0 1 1 1 0 0 1 1 1 0 0]\n"
     ]
    }
   ],
   "source": [
    "print(y_train)"
   ]
  },
  {
   "cell_type": "code",
   "execution_count": null,
   "metadata": {
    "colab": {
     "base_uri": "https://localhost:8080/"
    },
    "id": "qbb7i0DH1qui",
    "outputId": "cf50c3a6-44a4-45a9-8aae-a5c5895a23b9"
   },
   "outputs": [
    {
     "name": "stdout",
     "output_type": "stream",
     "text": [
      "[[ 32   3]\n",
      " [115  10]\n",
      " [ 46   2]\n",
      " [ 98   9]\n",
      " [ 50   9]\n",
      " [ 16  10]\n",
      " [ 32   9]\n",
      " [ 99   9]\n",
      " [ 54   5]\n",
      " [ 65  10]\n",
      " [ 96   9]\n",
      " [ 88   6]\n",
      " [ 45   8]\n",
      " [ 33   4]\n",
      " [ 80   6]\n",
      " [ 31  10]\n",
      " [ 42   9]\n",
      " [ 56   7]\n",
      " [ 46   8]\n",
      " [ 79   6]\n",
      " [ 14   4]\n",
      " [ 26   8]\n",
      " [ 75   9]\n",
      " [ 33   8]\n",
      " [ 13   7]\n",
      " [ 66   7]\n",
      " [ 33  10]\n",
      " [ 98   9]\n",
      " [ 18   7]\n",
      " [ 59  10]]\n"
     ]
    }
   ],
   "source": [
    "print(X_test)"
   ]
  },
  {
   "cell_type": "code",
   "execution_count": null,
   "metadata": {
    "colab": {
     "base_uri": "https://localhost:8080/"
    },
    "id": "kj1hnFAR1s5w",
    "outputId": "9e17ac94-465b-440e-cfc2-9981acaf08f0"
   },
   "outputs": [
    {
     "name": "stdout",
     "output_type": "stream",
     "text": [
      "[1 0 1 1 1 0 0 1 1 1 1 0 1 1 1 1 1 1 0 0 1 1 0 1 1 1 1 0 0 1]\n"
     ]
    }
   ],
   "source": [
    "print(y_test)"
   ]
  },
  {
   "cell_type": "markdown",
   "metadata": {
    "id": "kW3c7UYih0hT"
   },
   "source": [
    "### independent variables scaling. "
   ]
  },
  {
   "cell_type": "code",
   "execution_count": null,
   "metadata": {
    "id": "9fQlDPKCh8sc"
   },
   "outputs": [],
   "source": [
    "from sklearn.preprocessing import StandardScaler\n",
    "sc = StandardScaler()\n",
    "X_train = sc.fit_transform(X_train)\n",
    "X_test = sc.transform(X_test)"
   ]
  },
  {
   "cell_type": "code",
   "execution_count": null,
   "metadata": {
    "colab": {
     "base_uri": "https://localhost:8080/"
    },
    "id": "syrnD1Op2BSR",
    "outputId": "83159d20-59d3-4e5f-a0be-ab5d502d2a8d"
   },
   "outputs": [
    {
     "name": "stdout",
     "output_type": "stream",
     "text": [
      "[[-1.02413817  0.95653204]\n",
      " [-0.71429536 -0.46987539]\n",
      " [ 0.83491866  0.48106289]\n",
      " [-0.71429536  1.43200118]\n",
      " [ 3.84884412  0.95653204]\n",
      " [ 1.14476146  1.43200118]\n",
      " [-1.44665108  0.95653204]\n",
      " [ 0.21523305  1.43200118]\n",
      " [ 0.10256294 -0.46987539]\n",
      " [-1.24947839  0.95653204]\n",
      " [ 0.21523305 -0.94534453]\n",
      " [ 1.03209135  0.95653204]\n",
      " [ 2.83481312  1.43200118]\n",
      " [ 1.03209135  1.43200118]\n",
      " [ 0.07439541  1.43200118]\n",
      " [ 0.10256294  0.48106289]\n",
      " [-1.39031603  1.43200118]\n",
      " [ 0.7785836   0.95653204]\n",
      " [ 0.7785836  -0.94534453]\n",
      " [ 2.38413268  0.48106289]\n",
      " [-0.46078761  0.95653204]\n",
      " [-0.48895514  0.48106289]\n",
      " [ 0.7785836   0.95653204]\n",
      " [-0.43262009  1.43200118]\n",
      " [ 0.49690833 -1.42081367]\n",
      " [-0.15094481  0.00559375]\n",
      " [-0.15094481  1.43200118]\n",
      " [-0.43262009  1.43200118]\n",
      " [ 1.06025888  0.95653204]\n",
      " [-1.30581345  0.95653204]\n",
      " [-1.58748872  0.48106289]\n",
      " [-0.15094481  0.00559375]\n",
      " [ 0.10256294 -0.46987539]\n",
      " [-0.43262009  0.00559375]\n",
      " [ 0.63774597 -1.89628281]\n",
      " [-0.43262009 -1.42081367]\n",
      " [ 0.10256294  0.95653204]\n",
      " [-0.68612784 -1.42081367]\n",
      " [ 0.4687408  -1.89628281]\n",
      " [-0.01010717  1.43200118]\n",
      " [ 0.4687408   0.00559375]\n",
      " [ 0.86308619  1.43200118]\n",
      " [-0.43262009  0.00559375]\n",
      " [-1.30581345 -1.42081367]\n",
      " [ 0.7785836  -0.94534453]\n",
      " [ 0.21523305  0.48106289]\n",
      " [ 0.41240574 -0.94534453]\n",
      " [-0.37628503  0.95653204]\n",
      " [-1.30581345  0.00559375]\n",
      " [ 2.66580796 -1.42081367]\n",
      " [ 2.21512752  0.48106289]\n",
      " [-0.01010717  0.95653204]\n",
      " [ 1.11659394  0.95653204]\n",
      " [-0.48895514  0.95653204]\n",
      " [-0.31994998  0.95653204]\n",
      " [ 2.58130538 -0.94534453]\n",
      " [-0.43262009  0.00559375]\n",
      " [ 0.7785836  -1.42081367]\n",
      " [-0.93963559 -1.42081367]\n",
      " [ 2.21512752  0.48106289]\n",
      " [-1.02413817 -0.46987539]\n",
      " [-0.43262009  0.48106289]\n",
      " [-0.23544739 -1.42081367]\n",
      " [-0.43262009  0.00559375]\n",
      " [-0.15094481 -0.46987539]\n",
      " [-0.43262009 -0.94534453]\n",
      " [ 2.38413268 -0.46987539]\n",
      " [ 0.04622788 -1.42081367]\n",
      " [-0.71429536  0.48106289]\n",
      " [-0.37628503  0.00559375]\n",
      " [-0.3481175   0.95653204]\n",
      " [ 0.10256294 -0.46987539]\n",
      " [-1.27764592  1.43200118]\n",
      " [-0.06644223 -0.94534453]\n",
      " [-0.3481175   0.00559375]\n",
      " [ 0.10256294  0.48106289]\n",
      " [-0.40445256 -0.94534453]\n",
      " [-0.43262009 -2.37175195]\n",
      " [-1.19314333 -0.46987539]\n",
      " [-0.82696547  0.95653204]\n",
      " [-0.3481175   1.43200118]\n",
      " [ 0.18706552 -0.46987539]\n",
      " [ 0.07439541  0.95653204]\n",
      " [ 0.7785836  -1.42081367]\n",
      " [-1.02413817 -0.94534453]\n",
      " [ 0.58141091  0.95653204]\n",
      " [ 0.10256294  0.95653204]\n",
      " [-1.39031603 -2.37175195]\n",
      " [ 0.58141091 -0.46987539]\n",
      " [ 0.07439541  0.95653204]\n",
      " [ 2.77847807 -0.94534453]\n",
      " [-0.43262009  0.95653204]\n",
      " [ 1.65177696  0.48106289]\n",
      " [-1.30581345  0.00559375]\n",
      " [-1.19314333 -1.42081367]\n",
      " [-0.60162525  0.48106289]\n",
      " [-1.30581345  1.43200118]\n",
      " [-0.3481175  -1.42081367]\n",
      " [ 0.01806036 -0.46987539]\n",
      " [-0.79879795 -0.46987539]\n",
      " [ 0.7785836  -0.46987539]\n",
      " [-0.09460975 -0.46987539]\n",
      " [ 0.4687408   0.48106289]\n",
      " [ 0.27156811  0.48106289]\n",
      " [-0.26361492 -0.46987539]\n",
      " [ 0.7785836  -1.42081367]\n",
      " [ 2.04612235  0.95653204]\n",
      " [-0.43262009 -1.42081367]\n",
      " [-0.17911234  0.95653204]\n",
      " [-0.43262009  0.95653204]\n",
      " [ 1.03209135  0.00559375]\n",
      " [-1.27764592 -1.42081367]\n",
      " [ 0.60957844  0.95653204]\n",
      " [ 0.94758877  0.00559375]\n",
      " [ 0.29973563 -0.46987539]\n",
      " [ 0.91942124  0.95653204]\n",
      " [-0.43262009 -0.94534453]\n",
      " [-0.62979278 -0.46987539]\n",
      " [-0.15094481  0.48106289]\n",
      " [ 2.01795482  0.00559375]\n",
      " [ 1.08842641  1.43200118]\n",
      " [-1.02413817 -0.94534453]\n",
      " [-1.33398097  0.00559375]\n",
      " [-1.08047322 -0.46987539]\n",
      " [ 0.9757563   1.43200118]\n",
      " [-1.27764592 -0.94534453]\n",
      " [ 0.10256294 -0.46987539]\n",
      " [ 1.82078213  0.00559375]\n",
      " [ 0.38423822 -0.94534453]\n",
      " [ 0.7785836   0.48106289]\n",
      " [-1.19314333  0.95653204]\n",
      " [ 0.49690833  0.95653204]\n",
      " [-0.43262009  0.00559375]\n",
      " [ 1.93345224 -0.94534453]\n",
      " [-0.93963559  1.43200118]\n",
      " [-0.43262009 -1.42081367]\n",
      " [-0.20727987 -0.46987539]\n",
      " [-1.19314333 -0.46987539]\n",
      " [-1.08047322  0.00559375]\n",
      " [-0.74246289 -1.42081367]\n",
      " [-0.77063042  0.00559375]\n",
      " [ 0.21523305  0.48106289]\n",
      " [-0.43262009  0.95653204]\n",
      " [-0.46078761 -0.94534453]\n",
      " [-0.20727987  0.48106289]\n",
      " [ 0.04622788 -1.42081367]\n",
      " [-0.3481175  -1.42081367]\n",
      " [-0.43262009  0.95653204]\n",
      " [-0.99597064 -0.46987539]\n",
      " [-0.46078761 -1.42081367]\n",
      " [ 0.7785836   0.48106289]\n",
      " [ 0.32790316 -1.42081367]\n",
      " [-0.43262009  1.43200118]\n",
      " [-1.02413817 -0.46987539]\n",
      " [-0.71429536 -0.46987539]\n",
      " [-0.99597064 -1.89628281]\n",
      " [-0.74246289  0.48106289]\n",
      " [-1.16497581  0.48106289]\n",
      " [-1.27764592 -1.42081367]\n",
      " [ 0.7785836   0.48106289]\n",
      " [ 0.13073047 -0.46987539]\n",
      " [-1.02413817 -0.46987539]\n",
      " [-0.99597064  0.48106289]\n",
      " [-0.43262009  0.95653204]\n",
      " [-0.06644223 -1.42081367]\n",
      " [ 0.7785836   0.95653204]\n",
      " [ 0.04622788  0.95653204]\n",
      " [-1.33398097 -1.42081367]\n",
      " [ 0.7785836  -1.42081367]\n",
      " [ 1.03209135  0.95653204]]\n"
     ]
    }
   ],
   "source": [
    "print(X_train)"
   ]
  },
  {
   "cell_type": "code",
   "execution_count": null,
   "metadata": {
    "colab": {
     "base_uri": "https://localhost:8080/"
    },
    "id": "JUd6iBRp2C3L",
    "outputId": "03b6db16-ce3f-4bc6-b7ff-b575b02ab330"
   },
   "outputs": [
    {
     "name": "stdout",
     "output_type": "stream",
     "text": [
      "[[-0.82696547 -1.89628281]\n",
      " [ 1.51093932  1.43200118]\n",
      " [-0.43262009 -2.37175195]\n",
      " [ 1.03209135  0.95653204]\n",
      " [-0.31994998  0.95653204]\n",
      " [-1.27764592  1.43200118]\n",
      " [-0.82696547  0.95653204]\n",
      " [ 1.06025888  0.95653204]\n",
      " [-0.20727987 -0.94534453]\n",
      " [ 0.10256294  1.43200118]\n",
      " [ 0.9757563   0.95653204]\n",
      " [ 0.75041608 -0.46987539]\n",
      " [-0.46078761  0.48106289]\n",
      " [-0.79879795 -1.42081367]\n",
      " [ 0.52507585 -0.46987539]\n",
      " [-0.855133    1.43200118]\n",
      " [-0.5452902   0.95653204]\n",
      " [-0.15094481  0.00559375]\n",
      " [-0.43262009  0.48106289]\n",
      " [ 0.49690833 -0.46987539]\n",
      " [-1.33398097 -1.42081367]\n",
      " [-0.99597064  0.48106289]\n",
      " [ 0.38423822  0.95653204]\n",
      " [-0.79879795  0.48106289]\n",
      " [-1.3621485   0.00559375]\n",
      " [ 0.13073047  0.00559375]\n",
      " [-0.79879795  1.43200118]\n",
      " [ 1.03209135  0.95653204]\n",
      " [-1.22131086  0.00559375]\n",
      " [-0.06644223  1.43200118]]\n"
     ]
    }
   ],
   "source": [
    "print(X_test)"
   ]
  },
  {
   "cell_type": "markdown",
   "metadata": {
    "id": "bb6jCOCQiAmP"
   },
   "source": [
    "### Model training on training datastet."
   ]
  },
  {
   "cell_type": "code",
   "execution_count": null,
   "metadata": {
    "colab": {
     "base_uri": "https://localhost:8080/"
    },
    "id": "e0pFVAmciHQs",
    "outputId": "46121ad8-fc43-4d9e-8c28-62cffe8f5f24"
   },
   "outputs": [
    {
     "data": {
      "text/html": [
       "<style>#sk-container-id-1 {color: black;background-color: white;}#sk-container-id-1 pre{padding: 0;}#sk-container-id-1 div.sk-toggleable {background-color: white;}#sk-container-id-1 label.sk-toggleable__label {cursor: pointer;display: block;width: 100%;margin-bottom: 0;padding: 0.3em;box-sizing: border-box;text-align: center;}#sk-container-id-1 label.sk-toggleable__label-arrow:before {content: \"▸\";float: left;margin-right: 0.25em;color: #696969;}#sk-container-id-1 label.sk-toggleable__label-arrow:hover:before {color: black;}#sk-container-id-1 div.sk-estimator:hover label.sk-toggleable__label-arrow:before {color: black;}#sk-container-id-1 div.sk-toggleable__content {max-height: 0;max-width: 0;overflow: hidden;text-align: left;background-color: #f0f8ff;}#sk-container-id-1 div.sk-toggleable__content pre {margin: 0.2em;color: black;border-radius: 0.25em;background-color: #f0f8ff;}#sk-container-id-1 input.sk-toggleable__control:checked~div.sk-toggleable__content {max-height: 200px;max-width: 100%;overflow: auto;}#sk-container-id-1 input.sk-toggleable__control:checked~label.sk-toggleable__label-arrow:before {content: \"▾\";}#sk-container-id-1 div.sk-estimator input.sk-toggleable__control:checked~label.sk-toggleable__label {background-color: #d4ebff;}#sk-container-id-1 div.sk-label input.sk-toggleable__control:checked~label.sk-toggleable__label {background-color: #d4ebff;}#sk-container-id-1 input.sk-hidden--visually {border: 0;clip: rect(1px 1px 1px 1px);clip: rect(1px, 1px, 1px, 1px);height: 1px;margin: -1px;overflow: hidden;padding: 0;position: absolute;width: 1px;}#sk-container-id-1 div.sk-estimator {font-family: monospace;background-color: #f0f8ff;border: 1px dotted black;border-radius: 0.25em;box-sizing: border-box;margin-bottom: 0.5em;}#sk-container-id-1 div.sk-estimator:hover {background-color: #d4ebff;}#sk-container-id-1 div.sk-parallel-item::after {content: \"\";width: 100%;border-bottom: 1px solid gray;flex-grow: 1;}#sk-container-id-1 div.sk-label:hover label.sk-toggleable__label {background-color: #d4ebff;}#sk-container-id-1 div.sk-serial::before {content: \"\";position: absolute;border-left: 1px solid gray;box-sizing: border-box;top: 0;bottom: 0;left: 50%;z-index: 0;}#sk-container-id-1 div.sk-serial {display: flex;flex-direction: column;align-items: center;background-color: white;padding-right: 0.2em;padding-left: 0.2em;position: relative;}#sk-container-id-1 div.sk-item {position: relative;z-index: 1;}#sk-container-id-1 div.sk-parallel {display: flex;align-items: stretch;justify-content: center;background-color: white;position: relative;}#sk-container-id-1 div.sk-item::before, #sk-container-id-1 div.sk-parallel-item::before {content: \"\";position: absolute;border-left: 1px solid gray;box-sizing: border-box;top: 0;bottom: 0;left: 50%;z-index: -1;}#sk-container-id-1 div.sk-parallel-item {display: flex;flex-direction: column;z-index: 1;position: relative;background-color: white;}#sk-container-id-1 div.sk-parallel-item:first-child::after {align-self: flex-end;width: 50%;}#sk-container-id-1 div.sk-parallel-item:last-child::after {align-self: flex-start;width: 50%;}#sk-container-id-1 div.sk-parallel-item:only-child::after {width: 0;}#sk-container-id-1 div.sk-dashed-wrapped {border: 1px dashed gray;margin: 0 0.4em 0.5em 0.4em;box-sizing: border-box;padding-bottom: 0.4em;background-color: white;}#sk-container-id-1 div.sk-label label {font-family: monospace;font-weight: bold;display: inline-block;line-height: 1.2em;}#sk-container-id-1 div.sk-label-container {text-align: center;}#sk-container-id-1 div.sk-container {/* jupyter's `normalize.less` sets `[hidden] { display: none; }` but bootstrap.min.css set `[hidden] { display: none !important; }` so we also need the `!important` here to be able to override the default hidden behavior on the sphinx rendered scikit-learn.org. See: https://github.com/scikit-learn/scikit-learn/issues/21755 */display: inline-block !important;position: relative;}#sk-container-id-1 div.sk-text-repr-fallback {display: none;}</style><div id=\"sk-container-id-1\" class=\"sk-top-container\"><div class=\"sk-text-repr-fallback\"><pre>SVC(C=2.3, kernel=&#x27;linear&#x27;, tol=1.18)</pre><b>In a Jupyter environment, please rerun this cell to show the HTML representation or trust the notebook. <br />On GitHub, the HTML representation is unable to render, please try loading this page with nbviewer.org.</b></div><div class=\"sk-container\" hidden><div class=\"sk-item\"><div class=\"sk-estimator sk-toggleable\"><input class=\"sk-toggleable__control sk-hidden--visually\" id=\"sk-estimator-id-1\" type=\"checkbox\" checked><label for=\"sk-estimator-id-1\" class=\"sk-toggleable__label sk-toggleable__label-arrow\">SVC</label><div class=\"sk-toggleable__content\"><pre>SVC(C=2.3, kernel=&#x27;linear&#x27;, tol=1.18)</pre></div></div></div></div></div>"
      ],
      "text/plain": [
       "SVC(C=2.3, kernel='linear', tol=1.18)"
      ]
     },
     "execution_count": 23,
     "metadata": {},
     "output_type": "execute_result"
    }
   ],
   "source": [
    "from sklearn.svm import SVC\n",
    "classifier = SVC( kernel = 'linear', C = 2.3, tol = 1.18 , probability= False, )\n",
    "classifier.fit(X_train, y_train)\n"
   ]
  },
  {
   "cell_type": "markdown",
   "metadata": {
    "id": "yyxW5b395mR2"
   },
   "source": [
    "### Predicting random result."
   ]
  },
  {
   "cell_type": "code",
   "execution_count": null,
   "metadata": {
    "colab": {
     "background_save": true
    },
    "id": "f8YOXsQy58rP",
    "outputId": "106dc178-7890-4ab1-ca3a-34efc660b8b9"
   },
   "outputs": [
    {
     "name": "stdout",
     "output_type": "stream",
     "text": [
      "[1]\n"
     ]
    }
   ],
   "source": [
    "print(classifier.predict(sc.transform([[101,9]])))"
   ]
  },
  {
   "cell_type": "markdown",
   "metadata": {
    "id": "vKYVQH-l5NpE"
   },
   "source": [
    "### Testing the model on the test dataset. "
   ]
  },
  {
   "cell_type": "code",
   "execution_count": null,
   "metadata": {
    "id": "p6VMTb2O4hwM"
   },
   "outputs": [
    {
     "name": "stdout",
     "output_type": "stream",
     "text": [
      "[[1 1]\n",
      " [0 0]\n",
      " [1 1]\n",
      " [1 1]\n",
      " [1 1]\n",
      " [1 0]\n",
      " [1 0]\n",
      " [1 1]\n",
      " [1 1]\n",
      " [1 1]\n",
      " [1 1]\n",
      " [0 0]\n",
      " [1 1]\n",
      " [1 1]\n",
      " [1 1]\n",
      " [1 1]\n",
      " [1 1]\n",
      " [1 1]\n",
      " [1 0]\n",
      " [1 0]\n",
      " [1 1]\n",
      " [1 1]\n",
      " [1 0]\n",
      " [1 1]\n",
      " [1 1]\n",
      " [1 1]\n",
      " [1 1]\n",
      " [1 0]\n",
      " [1 0]\n",
      " [1 1]]\n"
     ]
    }
   ],
   "source": [
    "y_pred = classifier.predict(X_test)\n",
    "print(np.concatenate((y_pred.reshape(len(y_pred),1), y_test.reshape(len(y_test),1)),1))"
   ]
  },
  {
   "cell_type": "markdown",
   "metadata": {
    "id": "h4Hwj34ziWQW"
   },
   "source": [
    "### Confusion matrix score."
   ]
  },
  {
   "cell_type": "code",
   "execution_count": null,
   "metadata": {
    "id": "D6bpZwUiiXic"
   },
   "outputs": [
    {
     "name": "stdout",
     "output_type": "stream",
     "text": [
      "[[ 2  7]\n",
      " [ 0 21]]\n"
     ]
    },
    {
     "data": {
      "text/plain": [
       "0.7666666666666667"
      ]
     },
     "execution_count": 26,
     "metadata": {},
     "output_type": "execute_result"
    }
   ],
   "source": [
    "from sklearn.metrics import confusion_matrix, accuracy_score\n",
    "cm = confusion_matrix(y_test, y_pred)\n",
    "print(cm)\n",
    "accuracy_score(y_test, y_pred)"
   ]
  },
  {
   "cell_type": "markdown",
   "metadata": {
    "id": "6OMC_P0diaoD"
   },
   "source": [
    "### Training results visualising."
   ]
  },
  {
   "cell_type": "code",
   "execution_count": null,
   "metadata": {
    "id": "_NOjKvZRid5l"
   },
   "outputs": [
    {
     "name": "stderr",
     "output_type": "stream",
     "text": [
      "*c* argument looks like a single numeric RGB or RGBA sequence, which should be avoided as value-mapping will have precedence in case its length matches with *x* & *y*.  Please use the *color* keyword-argument or provide a 2D array with a single row if you intend to specify the same RGB or RGBA value for all points.\n",
      "*c* argument looks like a single numeric RGB or RGBA sequence, which should be avoided as value-mapping will have precedence in case its length matches with *x* & *y*.  Please use the *color* keyword-argument or provide a 2D array with a single row if you intend to specify the same RGB or RGBA value for all points.\n"
     ]
    },
    {
     "data": {
      "image/png": "[encoded data removed]",
      "text/plain": [
       "<Figure size 640x480 with 1 Axes>"
      ]
     },
     "metadata": {},
     "output_type": "display_data"
    }
   ],
   "source": [
    "from matplotlib.colors import ListedColormap\n",
    "X_set, y_set = sc.inverse_transform(X_train), y_train\n",
    "X1, X2 = np.meshgrid(np.arange(start = X_set[:, 0].min() - 10, stop = X_set[:, 0].max() + 10, step = 0.25),\n",
    "                     np.arange(start = X_set[:, 1].min() -10, stop = X_set[:, 1].max() + 10, step = 0.25))\n",
    "plt.contourf(X1, X2, classifier.predict(sc.transform(np.array([X1.ravel(), X2.ravel()]).T)).reshape(X1.shape),\n",
    "             alpha = 0.75, cmap = ListedColormap(('red', 'green')))\n",
    "plt.xlim(X1.min(), X1.max())\n",
    "plt.ylim(X2.min(), X2.max())\n",
    "for i, j in enumerate(np.unique(y_set)):\n",
    "    plt.scatter(X_set[y_set == j, 0], X_set[y_set == j, 1], c = ListedColormap(('red', 'green'))(i), label = j)\n",
    "plt.title('SVM L.Refrig (Training set)')\n",
    "plt.xlabel('Allocated Energy (Kwh)')\n",
    "plt.ylabel('Criticality')\n",
    "plt.legend()\n",
    "plt.show()"
   ]
  },
  {
   "cell_type": "markdown",
   "metadata": {
    "id": "SZ-j28aPihZx"
   },
   "source": [
    "### Test results visualising."
   ]
  },
  {
   "cell_type": "code",
   "execution_count": null,
   "metadata": {
    "id": "qeTjz2vDilAC"
   },
   "outputs": [
    {
     "name": "stderr",
     "output_type": "stream",
     "text": [
      "*c* argument looks like a single numeric RGB or RGBA sequence, which should be avoided as value-mapping will have precedence in case its length matches with *x* & *y*.  Please use the *color* keyword-argument or provide a 2D array with a single row if you intend to specify the same RGB or RGBA value for all points.\n",
      "*c* argument looks like a single numeric RGB or RGBA sequence, which should be avoided as value-mapping will have precedence in case its length matches with *x* & *y*.  Please use the *color* keyword-argument or provide a 2D array with a single row if you intend to specify the same RGB or RGBA value for all points.\n"
     ]
    },
    {
     "data": {
      "image/png": "[encoded data removed]",
      "text/plain": [
       "<Figure size 640x480 with 1 Axes>"
      ]
     },
     "metadata": {},
     "output_type": "display_data"
    }
   ],
   "source": [
    "from matplotlib.colors import ListedColormap\n",
    "X_set, y_set = sc.inverse_transform(X_test), y_test\n",
    "X1, X2 = np.meshgrid(np.arange(start = X_set[:, 0].min() - 10, stop = X_set[:, 0].max() + 10, step = 0.25),\n",
    "                     np.arange(start = X_set[:, 1].min() - 10, stop = X_set[:, 1].max() + 10, step = 0.25))\n",
    "plt.contourf(X1, X2, classifier.predict(sc.transform(np.array([X1.ravel(), X2.ravel()]).T)).reshape(X1.shape),\n",
    "             alpha = 0.75, cmap = ListedColormap(('red', 'green')))\n",
    "plt.xlim(X1.min(), X1.max())\n",
    "plt.ylim(X2.min(), X2.max())\n",
    "for i, j in enumerate(np.unique(y_set)):\n",
    "    plt.scatter(X_set[y_set == j, 0], X_set[y_set == j, 1], c = ListedColormap(('red', 'green'))(i), label = j)\n",
    "plt.title('SVM L.Refrig (Test set)')\n",
    "plt.xlabel('Allocated Energy (Kwh)')\n",
    "plt.ylabel('Criticality')\n",
    "plt.legend()\n",
    "plt.show()"
   ]
  }
 ],
 "metadata": {
  "kernelspec": {
   "display_name": "Python 3 (ipykernel)",
   "language": "python",
   "name": "python3"
  },
  "language_info": {
   "codemirror_mode": {
    "name": "ipython",
    "version": 3
   },
   "file_extension": ".py",
   "mimetype": "text/x-python",
   "name": "python",
   "nbconvert_exporter": "python",
   "pygments_lexer": "ipython3",
   "version": "3.10.9 (tags/v3.10.9:1dd9be6, Dec  6 2022, 20:01:21) [MSC v.1934 64 bit (AMD64)]"
  },
  "vscode": {
   "interpreter": {
    "hash": "8bdef8e17a07610d55343a05d93d53cb807863072b2265cef4765d8bc4b6bf5a"
   }
  }
 },
 "nbformat": 4,
 "nbformat_minor": 2
}
