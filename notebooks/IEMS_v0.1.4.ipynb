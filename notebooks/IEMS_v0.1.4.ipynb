{
 "cells": [
  {
   "attachments": {},
   "cell_type": "markdown",
   "metadata": {
    "id": "0MRC0e0KhQ0S"
   },
   "source": [
    "## IEMS v0.1.4 - SVM "
   ]
  },
  {
   "cell_type": "markdown",
   "metadata": {
    "id": "LWd1UlMnhT2s"
   },
   "source": [
    "### Importing libraries."
   ]
  },
  {
   "cell_type": "code",
   "execution_count": 1,
   "metadata": {
    "id": "YvGPUQaHhXfL"
   },
   "outputs": [],
   "source": [
    "import numpy as np\n",
    "import matplotlib.pyplot as plt\n",
    "from sklearn.preprocessing import StandardScaler\n",
    "from sklearn.model_selection import train_test_split\n",
    "import pandas as pd\n",
    "from dotenv import load_dotenv"
   ]
  },
  {
   "cell_type": "markdown",
   "metadata": {
    "id": "K1VMqkGvhc3-"
   },
   "source": [
    "### Importing dataset."
   ]
  },
  {
   "cell_type": "code",
   "execution_count": 2,
   "metadata": {
    "id": "M52QDmyzhh9s"
   },
   "outputs": [],
   "source": [
    "load_dotenv()\n",
    "dataset = pd.read_csv(\"../datasets/processed/L_Refreg200.csv\")\n",
    "X = dataset.iloc[:, [1,2]].values\n",
    "y = dataset.iloc[:, -1].values"
   ]
  },
  {
   "cell_type": "markdown",
   "metadata": {
    "id": "YvxIPVyMhmKp"
   },
   "source": [
    "### Spliting Dataset. "
   ]
  },
  {
   "cell_type": "code",
   "execution_count": 3,
   "metadata": {
    "id": "AVzJWAXIhxoC"
   },
   "outputs": [],
   "source": [
    "X_train, X_test, y_train, y_test = train_test_split(X, y, test_size = 0.15, random_state = 39)"
   ]
  },
  {
   "cell_type": "code",
   "execution_count": 4,
   "metadata": {
    "id": "P3nS3-6r1i2B"
   },
   "outputs": [
    {
     "name": "stdout",
     "output_type": "stream",
     "text": [
      "[[ 25   9]\n",
      " [ 36   6]\n",
      " [ 91   8]\n",
      " [ 36  10]\n",
      " [198   9]\n",
      " [102  10]\n",
      " [ 10   9]\n",
      " [ 69  10]\n",
      " [ 65   6]\n",
      " [ 17   9]\n",
      " [ 69   5]\n",
      " [ 98   9]\n",
      " [162  10]\n",
      " [ 98  10]\n",
      " [ 64  10]\n",
      " [ 65   8]\n",
      " [ 12  10]\n",
      " [ 89   9]\n",
      " [ 89   5]\n",
      " [146   8]\n",
      " [ 45   9]\n",
      " [ 44   8]\n",
      " [ 89   9]\n",
      " [ 46  10]\n",
      " [ 79   4]\n",
      " [ 56   7]\n",
      " [ 56  10]\n",
      " [ 46  10]\n",
      " [ 99   9]\n",
      " [ 15   9]\n",
      " [  5   8]\n",
      " [ 56   7]\n",
      " [ 65   6]\n",
      " [ 46   7]\n",
      " [ 84   3]\n",
      " [ 46   4]\n",
      " [ 65   9]\n",
      " [ 37   4]\n",
      " [ 78   3]\n",
      " [ 61  10]\n",
      " [ 78   7]\n",
      " [ 92  10]\n",
      " [ 46   7]\n",
      " [ 15   4]\n",
      " [ 89   5]\n",
      " [ 69   8]\n",
      " [ 76   5]\n",
      " [ 48   9]\n",
      " [ 15   7]\n",
      " [156   4]\n",
      " [140   8]\n",
      " [ 61   9]\n",
      " [101   9]\n",
      " [ 44   9]\n",
      " [ 50   9]\n",
      " [153   5]\n",
      " [ 46   7]\n",
      " [ 89   4]\n",
      " [ 28   4]\n",
      " [140   8]\n",
      " [ 25   6]\n",
      " [ 46   8]\n",
      " [ 53   4]\n",
      " [ 46   7]\n",
      " [ 56   6]\n",
      " [ 46   5]\n",
      " [146   6]\n",
      " [ 63   4]\n",
      " [ 36   8]\n",
      " [ 48   7]\n",
      " [ 49   9]\n",
      " [ 65   6]\n",
      " [ 16  10]\n",
      " [ 59   5]\n",
      " [ 49   7]\n",
      " [ 65   8]\n",
      " [ 47   5]\n",
      " [ 46   2]\n",
      " [ 19   6]\n",
      " [ 32   9]\n",
      " [ 49  10]\n",
      " [ 68   6]\n",
      " [ 64   9]\n",
      " [ 89   4]\n",
      " [ 25   5]\n",
      " [ 82   9]\n",
      " [ 65   9]\n",
      " [ 12   2]\n",
      " [ 82   6]\n",
      " [ 64   9]\n",
      " [160   5]\n",
      " [ 46   9]\n",
      " [120   8]\n",
      " [ 15   7]\n",
      " [ 19   4]\n",
      " [ 40   8]\n",
      " [ 15  10]\n",
      " [ 49   4]\n",
      " [ 62   6]\n",
      " [ 33   6]\n",
      " [ 89   6]\n",
      " [ 58   6]\n",
      " [ 78   8]\n",
      " [ 71   8]\n",
      " [ 52   6]\n",
      " [ 89   4]\n",
      " [134   9]\n",
      " [ 46   4]\n",
      " [ 55   9]\n",
      " [ 46   9]\n",
      " [ 98   7]\n",
      " [ 16   4]\n",
      " [ 83   9]\n",
      " [ 95   7]\n",
      " [ 72   6]\n",
      " [ 94   9]\n",
      " [ 46   5]\n",
      " [ 39   6]\n",
      " [ 56   8]\n",
      " [133   7]\n",
      " [100  10]\n",
      " [ 25   5]\n",
      " [ 14   7]\n",
      " [ 23   6]\n",
      " [ 96  10]\n",
      " [ 16   5]\n",
      " [ 65   6]\n",
      " [126   7]\n",
      " [ 75   5]\n",
      " [ 89   8]\n",
      " [ 19   9]\n",
      " [ 79   9]\n",
      " [ 46   7]\n",
      " [130   5]\n",
      " [ 28  10]\n",
      " [ 46   4]\n",
      " [ 54   6]\n",
      " [ 19   6]\n",
      " [ 23   7]\n",
      " [ 35   4]\n",
      " [ 34   7]\n",
      " [ 69   8]\n",
      " [ 46   9]\n",
      " [ 45   5]\n",
      " [ 54   8]\n",
      " [ 63   4]\n",
      " [ 49   4]\n",
      " [ 46   9]\n",
      " [ 26   6]\n",
      " [ 45   4]\n",
      " [ 89   8]\n",
      " [ 73   4]\n",
      " [ 46  10]\n",
      " [ 25   6]\n",
      " [ 36   6]\n",
      " [ 26   3]\n",
      " [ 35   8]\n",
      " [ 20   8]\n",
      " [ 16   4]\n",
      " [ 89   8]\n",
      " [ 66   6]\n",
      " [ 25   6]\n",
      " [ 26   8]\n",
      " [ 46   9]\n",
      " [ 59   4]\n",
      " [ 89   9]\n",
      " [ 63   9]\n",
      " [ 14   4]\n",
      " [ 89   4]\n",
      " [ 98   9]]\n"
     ]
    }
   ],
   "source": [
    "print(X_train)"
   ]
  },
  {
   "cell_type": "code",
   "execution_count": 5,
   "metadata": {
    "colab": {
     "base_uri": "https://localhost:8080/"
    },
    "id": "8dpDLojm1mVG",
    "outputId": "990cf185-af55-4459-9556-9e6f9b4e57a4"
   },
   "outputs": [
    {
     "name": "stdout",
     "output_type": "stream",
     "text": [
      "[0 0 1 0 0 1 0 0 1 0 1 0 1 1 1 1 0 1 0 0 1 1 1 0 1 1 1 0 0 1 1 1 0 0 0 0 0\n",
      " 0 1 0 1 1 0 0 0 0 1 1 1 1 0 1 1 0 1 0 1 1 0 0 1 1 1 1 1 0 0 0 1 0 0 0 1 1\n",
      " 0 1 1 1 1 1 0 1 0 0 0 0 0 1 0 1 1 0 0 1 1 1 0 1 1 0 1 1 0 1 0 0 0 1 0 1 1\n",
      " 0 0 0 1 1 0 1 0 1 1 0 1 0 0 1 1 1 0 0 1 0 1 1 1 0 0 1 0 1 1 0 1 1 1 1 0 1\n",
      " 1 0 0 0 1 0 0 1 1 1 1 0 1 1 1 0 0 1 1 1 0 0]\n"
     ]
    }
   ],
   "source": [
    "print(y_train)"
   ]
  },
  {
   "cell_type": "code",
   "execution_count": 6,
   "metadata": {
    "colab": {
     "base_uri": "https://localhost:8080/"
    },
    "id": "qbb7i0DH1qui",
    "outputId": "cf50c3a6-44a4-45a9-8aae-a5c5895a23b9"
   },
   "outputs": [
    {
     "name": "stdout",
     "output_type": "stream",
     "text": [
      "[[ 32   3]\n",
      " [115  10]\n",
      " [ 46   2]\n",
      " [ 98   9]\n",
      " [ 50   9]\n",
      " [ 16  10]\n",
      " [ 32   9]\n",
      " [ 99   9]\n",
      " [ 54   5]\n",
      " [ 65  10]\n",
      " [ 96   9]\n",
      " [ 88   6]\n",
      " [ 45   8]\n",
      " [ 33   4]\n",
      " [ 80   6]\n",
      " [ 31  10]\n",
      " [ 42   9]\n",
      " [ 56   7]\n",
      " [ 46   8]\n",
      " [ 79   6]\n",
      " [ 14   4]\n",
      " [ 26   8]\n",
      " [ 75   9]\n",
      " [ 33   8]\n",
      " [ 13   7]\n",
      " [ 66   7]\n",
      " [ 33  10]\n",
      " [ 98   9]\n",
      " [ 18   7]\n",
      " [ 59  10]]\n"
     ]
    }
   ],
   "source": [
    "print(X_test)"
   ]
  },
  {
   "cell_type": "code",
   "execution_count": 7,
   "metadata": {
    "colab": {
     "base_uri": "https://localhost:8080/"
    },
    "id": "kj1hnFAR1s5w",
    "outputId": "9e17ac94-465b-440e-cfc2-9981acaf08f0"
   },
   "outputs": [
    {
     "name": "stdout",
     "output_type": "stream",
     "text": [
      "[1 0 1 1 1 0 0 1 1 1 1 0 1 1 1 1 1 1 0 0 1 1 0 1 1 1 1 0 0 1]\n"
     ]
    }
   ],
   "source": [
    "print(y_test)"
   ]
  },
  {
   "cell_type": "markdown",
   "metadata": {
    "id": "kW3c7UYih0hT"
   },
   "source": [
    "### independent variables scaling. "
   ]
  },
  {
   "cell_type": "code",
   "execution_count": 8,
   "metadata": {
    "id": "9fQlDPKCh8sc"
   },
   "outputs": [],
   "source": [
    "sc = StandardScaler()\n",
    "X_train = sc.fit_transform(X_train)\n",
    "X_test = sc.transform(X_test)"
   ]
  },
  {
   "cell_type": "code",
   "execution_count": 9,
   "metadata": {
    "colab": {
     "base_uri": "https://localhost:8080/"
    },
    "id": "syrnD1Op2BSR",
    "outputId": "83159d20-59d3-4e5f-a0be-ab5d502d2a8d"
   },
   "outputs": [
    {
     "name": "stdout",
     "output_type": "stream",
     "text": [
      "[[-1.02413817  0.95653204]\n",
      " [-0.71429536 -0.46987539]\n",
      " [ 0.83491866  0.48106289]\n",
      " [-0.71429536  1.43200118]\n",
      " [ 3.84884412  0.95653204]\n",
      " [ 1.14476146  1.43200118]\n",
      " [-1.44665108  0.95653204]\n",
      " [ 0.21523305  1.43200118]\n",
      " [ 0.10256294 -0.46987539]\n",
      " [-1.24947839  0.95653204]\n",
      " [ 0.21523305 -0.94534453]\n",
      " [ 1.03209135  0.95653204]\n",
      " [ 2.83481312  1.43200118]\n",
      " [ 1.03209135  1.43200118]\n",
      " [ 0.07439541  1.43200118]\n",
      " [ 0.10256294  0.48106289]\n",
      " [-1.39031603  1.43200118]\n",
      " [ 0.7785836   0.95653204]\n",
      " [ 0.7785836  -0.94534453]\n",
      " [ 2.38413268  0.48106289]\n",
      " [-0.46078761  0.95653204]\n",
      " [-0.48895514  0.48106289]\n",
      " [ 0.7785836   0.95653204]\n",
      " [-0.43262009  1.43200118]\n",
      " [ 0.49690833 -1.42081367]\n",
      " [-0.15094481  0.00559375]\n",
      " [-0.15094481  1.43200118]\n",
      " [-0.43262009  1.43200118]\n",
      " [ 1.06025888  0.95653204]\n",
      " [-1.30581345  0.95653204]\n",
      " [-1.58748872  0.48106289]\n",
      " [-0.15094481  0.00559375]\n",
      " [ 0.10256294 -0.46987539]\n",
      " [-0.43262009  0.00559375]\n",
      " [ 0.63774597 -1.89628281]\n",
      " [-0.43262009 -1.42081367]\n",
      " [ 0.10256294  0.95653204]\n",
      " [-0.68612784 -1.42081367]\n",
      " [ 0.4687408  -1.89628281]\n",
      " [-0.01010717  1.43200118]\n",
      " [ 0.4687408   0.00559375]\n",
      " [ 0.86308619  1.43200118]\n",
      " [-0.43262009  0.00559375]\n",
      " [-1.30581345 -1.42081367]\n",
      " [ 0.7785836  -0.94534453]\n",
      " [ 0.21523305  0.48106289]\n",
      " [ 0.41240574 -0.94534453]\n",
      " [-0.37628503  0.95653204]\n",
      " [-1.30581345  0.00559375]\n",
      " [ 2.66580796 -1.42081367]\n",
      " [ 2.21512752  0.48106289]\n",
      " [-0.01010717  0.95653204]\n",
      " [ 1.11659394  0.95653204]\n",
      " [-0.48895514  0.95653204]\n",
      " [-0.31994998  0.95653204]\n",
      " [ 2.58130538 -0.94534453]\n",
      " [-0.43262009  0.00559375]\n",
      " [ 0.7785836  -1.42081367]\n",
      " [-0.93963559 -1.42081367]\n",
      " [ 2.21512752  0.48106289]\n",
      " [-1.02413817 -0.46987539]\n",
      " [-0.43262009  0.48106289]\n",
      " [-0.23544739 -1.42081367]\n",
      " [-0.43262009  0.00559375]\n",
      " [-0.15094481 -0.46987539]\n",
      " [-0.43262009 -0.94534453]\n",
      " [ 2.38413268 -0.46987539]\n",
      " [ 0.04622788 -1.42081367]\n",
      " [-0.71429536  0.48106289]\n",
      " [-0.37628503  0.00559375]\n",
      " [-0.3481175   0.95653204]\n",
      " [ 0.10256294 -0.46987539]\n",
      " [-1.27764592  1.43200118]\n",
      " [-0.06644223 -0.94534453]\n",
      " [-0.3481175   0.00559375]\n",
      " [ 0.10256294  0.48106289]\n",
      " [-0.40445256 -0.94534453]\n",
      " [-0.43262009 -2.37175195]\n",
      " [-1.19314333 -0.46987539]\n",
      " [-0.82696547  0.95653204]\n",
      " [-0.3481175   1.43200118]\n",
      " [ 0.18706552 -0.46987539]\n",
      " [ 0.07439541  0.95653204]\n",
      " [ 0.7785836  -1.42081367]\n",
      " [-1.02413817 -0.94534453]\n",
      " [ 0.58141091  0.95653204]\n",
      " [ 0.10256294  0.95653204]\n",
      " [-1.39031603 -2.37175195]\n",
      " [ 0.58141091 -0.46987539]\n",
      " [ 0.07439541  0.95653204]\n",
      " [ 2.77847807 -0.94534453]\n",
      " [-0.43262009  0.95653204]\n",
      " [ 1.65177696  0.48106289]\n",
      " [-1.30581345  0.00559375]\n",
      " [-1.19314333 -1.42081367]\n",
      " [-0.60162525  0.48106289]\n",
      " [-1.30581345  1.43200118]\n",
      " [-0.3481175  -1.42081367]\n",
      " [ 0.01806036 -0.46987539]\n",
      " [-0.79879795 -0.46987539]\n",
      " [ 0.7785836  -0.46987539]\n",
      " [-0.09460975 -0.46987539]\n",
      " [ 0.4687408   0.48106289]\n",
      " [ 0.27156811  0.48106289]\n",
      " [-0.26361492 -0.46987539]\n",
      " [ 0.7785836  -1.42081367]\n",
      " [ 2.04612235  0.95653204]\n",
      " [-0.43262009 -1.42081367]\n",
      " [-0.17911234  0.95653204]\n",
      " [-0.43262009  0.95653204]\n",
      " [ 1.03209135  0.00559375]\n",
      " [-1.27764592 -1.42081367]\n",
      " [ 0.60957844  0.95653204]\n",
      " [ 0.94758877  0.00559375]\n",
      " [ 0.29973563 -0.46987539]\n",
      " [ 0.91942124  0.95653204]\n",
      " [-0.43262009 -0.94534453]\n",
      " [-0.62979278 -0.46987539]\n",
      " [-0.15094481  0.48106289]\n",
      " [ 2.01795482  0.00559375]\n",
      " [ 1.08842641  1.43200118]\n",
      " [-1.02413817 -0.94534453]\n",
      " [-1.33398097  0.00559375]\n",
      " [-1.08047322 -0.46987539]\n",
      " [ 0.9757563   1.43200118]\n",
      " [-1.27764592 -0.94534453]\n",
      " [ 0.10256294 -0.46987539]\n",
      " [ 1.82078213  0.00559375]\n",
      " [ 0.38423822 -0.94534453]\n",
      " [ 0.7785836   0.48106289]\n",
      " [-1.19314333  0.95653204]\n",
      " [ 0.49690833  0.95653204]\n",
      " [-0.43262009  0.00559375]\n",
      " [ 1.93345224 -0.94534453]\n",
      " [-0.93963559  1.43200118]\n",
      " [-0.43262009 -1.42081367]\n",
      " [-0.20727987 -0.46987539]\n",
      " [-1.19314333 -0.46987539]\n",
      " [-1.08047322  0.00559375]\n",
      " [-0.74246289 -1.42081367]\n",
      " [-0.77063042  0.00559375]\n",
      " [ 0.21523305  0.48106289]\n",
      " [-0.43262009  0.95653204]\n",
      " [-0.46078761 -0.94534453]\n",
      " [-0.20727987  0.48106289]\n",
      " [ 0.04622788 -1.42081367]\n",
      " [-0.3481175  -1.42081367]\n",
      " [-0.43262009  0.95653204]\n",
      " [-0.99597064 -0.46987539]\n",
      " [-0.46078761 -1.42081367]\n",
      " [ 0.7785836   0.48106289]\n",
      " [ 0.32790316 -1.42081367]\n",
      " [-0.43262009  1.43200118]\n",
      " [-1.02413817 -0.46987539]\n",
      " [-0.71429536 -0.46987539]\n",
      " [-0.99597064 -1.89628281]\n",
      " [-0.74246289  0.48106289]\n",
      " [-1.16497581  0.48106289]\n",
      " [-1.27764592 -1.42081367]\n",
      " [ 0.7785836   0.48106289]\n",
      " [ 0.13073047 -0.46987539]\n",
      " [-1.02413817 -0.46987539]\n",
      " [-0.99597064  0.48106289]\n",
      " [-0.43262009  0.95653204]\n",
      " [-0.06644223 -1.42081367]\n",
      " [ 0.7785836   0.95653204]\n",
      " [ 0.04622788  0.95653204]\n",
      " [-1.33398097 -1.42081367]\n",
      " [ 0.7785836  -1.42081367]\n",
      " [ 1.03209135  0.95653204]]\n"
     ]
    }
   ],
   "source": [
    "print(X_train)"
   ]
  },
  {
   "cell_type": "code",
   "execution_count": 10,
   "metadata": {
    "colab": {
     "base_uri": "https://localhost:8080/"
    },
    "id": "JUd6iBRp2C3L",
    "outputId": "03b6db16-ce3f-4bc6-b7ff-b575b02ab330"
   },
   "outputs": [
    {
     "name": "stdout",
     "output_type": "stream",
     "text": [
      "[[-0.82696547 -1.89628281]\n",
      " [ 1.51093932  1.43200118]\n",
      " [-0.43262009 -2.37175195]\n",
      " [ 1.03209135  0.95653204]\n",
      " [-0.31994998  0.95653204]\n",
      " [-1.27764592  1.43200118]\n",
      " [-0.82696547  0.95653204]\n",
      " [ 1.06025888  0.95653204]\n",
      " [-0.20727987 -0.94534453]\n",
      " [ 0.10256294  1.43200118]\n",
      " [ 0.9757563   0.95653204]\n",
      " [ 0.75041608 -0.46987539]\n",
      " [-0.46078761  0.48106289]\n",
      " [-0.79879795 -1.42081367]\n",
      " [ 0.52507585 -0.46987539]\n",
      " [-0.855133    1.43200118]\n",
      " [-0.5452902   0.95653204]\n",
      " [-0.15094481  0.00559375]\n",
      " [-0.43262009  0.48106289]\n",
      " [ 0.49690833 -0.46987539]\n",
      " [-1.33398097 -1.42081367]\n",
      " [-0.99597064  0.48106289]\n",
      " [ 0.38423822  0.95653204]\n",
      " [-0.79879795  0.48106289]\n",
      " [-1.3621485   0.00559375]\n",
      " [ 0.13073047  0.00559375]\n",
      " [-0.79879795  1.43200118]\n",
      " [ 1.03209135  0.95653204]\n",
      " [-1.22131086  0.00559375]\n",
      " [-0.06644223  1.43200118]]\n"
     ]
    }
   ],
   "source": [
    "print(X_test)"
   ]
  },
  {
   "cell_type": "markdown",
   "metadata": {
    "id": "bb6jCOCQiAmP"
   },
   "source": [
    "### Model training on training datastet."
   ]
  },
  {
   "cell_type": "code",
   "execution_count": 11,
   "metadata": {
    "colab": {
     "base_uri": "https://localhost:8080/"
    },
    "id": "e0pFVAmciHQs",
    "outputId": "46121ad8-fc43-4d9e-8c28-62cffe8f5f24"
   },
   "outputs": [
    {
     "data": {
      "text/plain": [
       "SVC(C=2.3, kernel='linear', tol=1.18)"
      ]
     },
     "execution_count": 11,
     "metadata": {},
     "output_type": "execute_result"
    }
   ],
   "source": [
    "from sklearn.svm import SVC\n",
    "classifier = SVC( kernel = 'linear', C = 2.3, tol = 1.18 , probability= False, )\n",
    "classifier.fit(X_train, y_train)\n"
   ]
  },
  {
   "cell_type": "markdown",
   "metadata": {
    "id": "yyxW5b395mR2"
   },
   "source": [
    "### Predicting random result."
   ]
  },
  {
   "cell_type": "code",
   "execution_count": 12,
   "metadata": {
    "colab": {
     "background_save": true
    },
    "id": "f8YOXsQy58rP",
    "outputId": "106dc178-7890-4ab1-ca3a-34efc660b8b9"
   },
   "outputs": [
    {
     "name": "stdout",
     "output_type": "stream",
     "text": [
      "[1]\n"
     ]
    }
   ],
   "source": [
    "print(classifier.predict(sc.transform([[101,9]])))"
   ]
  },
  {
   "cell_type": "markdown",
   "metadata": {
    "id": "vKYVQH-l5NpE"
   },
   "source": [
    "### Testing the model on the test dataset. "
   ]
  },
  {
   "cell_type": "code",
   "execution_count": 13,
   "metadata": {
    "id": "p6VMTb2O4hwM"
   },
   "outputs": [
    {
     "name": "stdout",
     "output_type": "stream",
     "text": [
      "[[1 1]\n",
      " [0 0]\n",
      " [1 1]\n",
      " [1 1]\n",
      " [1 1]\n",
      " [1 0]\n",
      " [1 0]\n",
      " [1 1]\n",
      " [1 1]\n",
      " [1 1]\n",
      " [1 1]\n",
      " [0 0]\n",
      " [1 1]\n",
      " [1 1]\n",
      " [1 1]\n",
      " [1 1]\n",
      " [1 1]\n",
      " [1 1]\n",
      " [1 0]\n",
      " [1 0]\n",
      " [1 1]\n",
      " [1 1]\n",
      " [1 0]\n",
      " [1 1]\n",
      " [1 1]\n",
      " [1 1]\n",
      " [1 1]\n",
      " [1 0]\n",
      " [1 0]\n",
      " [1 1]]\n"
     ]
    }
   ],
   "source": [
    "y_pred = classifier.predict(X_test)\n",
    "print(np.concatenate((y_pred.reshape(len(y_pred),1), y_test.reshape(len(y_test),1)),1))"
   ]
  },
  {
   "cell_type": "markdown",
   "metadata": {
    "id": "h4Hwj34ziWQW"
   },
   "source": [
    "### Confusion matrix score."
   ]
  },
  {
   "cell_type": "code",
   "execution_count": 14,
   "metadata": {
    "id": "D6bpZwUiiXic"
   },
   "outputs": [
    {
     "name": "stdout",
     "output_type": "stream",
     "text": [
      "[[ 2  7]\n",
      " [ 0 21]]\n"
     ]
    },
    {
     "data": {
      "text/plain": [
       "0.7666666666666667"
      ]
     },
     "execution_count": 14,
     "metadata": {},
     "output_type": "execute_result"
    }
   ],
   "source": [
    "from sklearn.metrics import confusion_matrix, accuracy_score\n",
    "cm = confusion_matrix(y_test, y_pred)\n",
    "print(cm)\n",
    "accuracy_score(y_test, y_pred)"
   ]
  },
  {
   "cell_type": "markdown",
   "metadata": {
    "id": "6OMC_P0diaoD"
   },
   "source": [
    "### Training results visualising."
   ]
  },
  {
   "cell_type": "code",
   "execution_count": 15,
   "metadata": {
    "id": "_NOjKvZRid5l"
   },
   "outputs": [
    {
     "name": "stderr",
     "output_type": "stream",
     "text": [
      "*c* argument looks like a single numeric RGB or RGBA sequence, which should be avoided as value-mapping will have precedence in case its length matches with *x* & *y*.  Please use the *color* keyword-argument or provide a 2D array with a single row if you intend to specify the same RGB or RGBA value for all points.\n",
      "*c* argument looks like a single numeric RGB or RGBA sequence, which should be avoided as value-mapping will have precedence in case its length matches with *x* & *y*.  Please use the *color* keyword-argument or provide a 2D array with a single row if you intend to specify the same RGB or RGBA value for all points.\n"
     ]
    },
    {
     "data": {
      "image/png": "[encoded data removed]",
      "text/plain": [
       "<Figure size 640x480 with 1 Axes>"
      ]
     },
     "metadata": {},
     "output_type": "display_data"
    }
   ],
   "source": [
    "from matplotlib.colors import ListedColormap\n",
    "X_set, y_set = sc.inverse_transform(X_train), y_train\n",
    "X1, X2 = np.meshgrid(np.arange(start = X_set[:, 0].min() - 10, stop = X_set[:, 0].max() + 10, step = 0.25),\n",
    "                     np.arange(start = X_set[:, 1].min() -10, stop = X_set[:, 1].max() + 10, step = 0.25))\n",
    "plt.contourf(X1, X2, classifier.predict(sc.transform(np.array([X1.ravel(), X2.ravel()]).T)).reshape(X1.shape),\n",
    "             alpha = 0.75, cmap = ListedColormap(('red', 'green')))\n",
    "plt.xlim(X1.min(), X1.max())\n",
    "plt.ylim(X2.min(), X2.max())\n",
    "for i, j in enumerate(np.unique(y_set)):\n",
    "    plt.scatter(X_set[y_set == j, 0], X_set[y_set == j, 1], c = ListedColormap(('red', 'green'))(i), label = j)\n",
    "plt.title('SVM L.Refrig (Training set)')\n",
    "plt.xlabel('Allocated Energy (Kwh)')\n",
    "plt.ylabel('Criticality')\n",
    "plt.legend()\n",
    "plt.show()"
   ]
  },
  {
   "cell_type": "markdown",
   "metadata": {
    "id": "SZ-j28aPihZx"
   },
   "source": [
    "### Test results visualising."
   ]
  },
  {
   "cell_type": "code",
   "execution_count": 16,
   "metadata": {
    "id": "qeTjz2vDilAC"
   },
   "outputs": [
    {
     "name": "stderr",
     "output_type": "stream",
     "text": [
      "*c* argument looks like a single numeric RGB or RGBA sequence, which should be avoided as value-mapping will have precedence in case its length matches with *x* & *y*.  Please use the *color* keyword-argument or provide a 2D array with a single row if you intend to specify the same RGB or RGBA value for all points.\n",
      "*c* argument looks like a single numeric RGB or RGBA sequence, which should be avoided as value-mapping will have precedence in case its length matches with *x* & *y*.  Please use the *color* keyword-argument or provide a 2D array with a single row if you intend to specify the same RGB or RGBA value for all points.\n"
     ]
    },
    {
     "data": {
      "image/png": "[encoded data removed]",
      "text/plain": [
       "<Figure size 640x480 with 1 Axes>"
      ]
     },
     "metadata": {},
     "output_type": "display_data"
    }
   ],
   "source": [
    "from matplotlib.colors import ListedColormap\n",
    "X_set, y_set = sc.inverse_transform(X_test), y_test\n",
    "X1, X2 = np.meshgrid(np.arange(start = X_set[:, 0].min() - 10, stop = X_set[:, 0].max() + 10, step = 0.25),\n",
    "                     np.arange(start = X_set[:, 1].min() - 10, stop = X_set[:, 1].max() + 10, step = 0.25))\n",
    "plt.contourf(X1, X2, classifier.predict(sc.transform(np.array([X1.ravel(), X2.ravel()]).T)).reshape(X1.shape),\n",
    "             alpha = 0.75, cmap = ListedColormap(('red', 'green')))\n",
    "plt.xlim(X1.min(), X1.max())\n",
    "plt.ylim(X2.min(), X2.max())\n",
    "for i, j in enumerate(np.unique(y_set)):\n",
    "    plt.scatter(X_set[y_set == j, 0], X_set[y_set == j, 1], c = ListedColormap(('red', 'green'))(i), label = j)\n",
    "plt.title('SVM L.Refrig (Test set)')\n",
    "plt.xlabel('Allocated Energy (Kwh)')\n",
    "plt.ylabel('Criticality')\n",
    "plt.legend()\n",
    "plt.show()"
   ]
  }
 ],
 "metadata": {
  "kernelspec": {
   "display_name": "Python 3 (ipykernel)",
   "language": "python",
   "name": "python3"
  },
  "language_info": {
   "codemirror_mode": {
    "name": "ipython",
    "version": 3
   },
   "file_extension": ".py",
   "mimetype": "text/x-python",
   "name": "python",
   "nbconvert_exporter": "python",
   "pygments_lexer": "ipython3",
   "version": "3.9.13"
  },
  "vscode": {
   "interpreter": {
    "hash": "8bdef8e17a07610d55343a05d93d53cb807863072b2265cef4765d8bc4b6bf5a"
   }
  }
 },
 "nbformat": 4,
 "nbformat_minor": 2
}
